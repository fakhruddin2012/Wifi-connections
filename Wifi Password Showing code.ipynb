{
 "cells": [
  {
   "cell_type": "code",
   "execution_count": 1,
   "metadata": {},
   "outputs": [
    {
     "name": "stdout",
     "output_type": "stream",
     "text": [
      "AMS                           |  hawa@123\n",
      "Galaxy M31s5E2C               |  pbgx6274\n",
      "TP-LINK_79EE                  |  Fakhru@950\n",
      "arshad                        |  mdarshad\n",
      "AP                            |  qwertyuiop\n",
      "HUAWEI_CUN-L21_6957           |  d94ce4f6\n",
      "OnePlus 6                     |  8080840759\n",
      "realme C2                     |  778a2d902afb\n",
      "GREYATOM303 2                 |      NO SECURITY OR COULDN'T CONNECT SUCCESSFULLY \n",
      "jagdish244                    |  Hornet@4011\n",
      "CoWork                        |  RedBr!ck@123\n",
      "GREYATOM101                   |      NO SECURITY OR COULDN'T CONNECT SUCCESSFULLY \n",
      "GREYATOM303                   |  gatom@2019\n",
      "GREYATOM302                   |      NO SECURITY OR COULDN'T CONNECT SUCCESSFULLY \n",
      "GreyAtom303                   |  gatom@2019\n",
      "mohsinpathan                  |      NO SECURITY OR COULDN'T CONNECT SUCCESSFULLY \n",
      "  ARSHAD.....                 |  fakhru@123\n",
      "Mi Phone                      |  64a781cb9ba4\n",
      "..... 2                       |      NO SECURITY OR COULDN'T CONNECT SUCCESSFULLY \n",
      "scolti 2                      |      NO SECURITY OR COULDN'T CONNECT SUCCESSFULLY \n",
      "ayaan Rk                      |  kamalraja 786\n",
      "BoZN-UmVkbWkzUw               |      NO SECURITY OR COULDN'T CONNECT SUCCESSFULLY \n",
      ".....                         |  99990000\n",
      "B0NM-YXJzaGFk                 |      NO SECURITY OR COULDN'T CONNECT SUCCESSFULLY \n",
      "Le 2                          |  99990000\n",
      "lil king                      |  99990009\n",
      "Android..                     |  ECONOMIC\n",
      "Kratos                        |  zmrzqh zxddl\n",
      "scolti                        |  fakhru123\n",
      "Nokia                         |  987654321\n",
      "B7ov-ZmFraHJ1ZGRpbjk1MA       |      NO SECURITY OR COULDN'T CONNECT SUCCESSFULLY \n"
     ]
    }
   ],
   "source": [
    "'''CODE TO SHOW WIFI PASSWORD SUCCESSFULLY CONNECTED TO SYSTEM TILL NOW'''\n",
    "    \n",
    "import subprocess\n",
    "data = subprocess.check_output(['netsh', 'wlan', 'show', 'profile']).decode('utf-8').split('\\n')\n",
    "\n",
    "profiles = [i.split(\":\")[1][1:-1] for i in data if \"All User Profile\" in i]\n",
    "\n",
    "for i in profiles:\n",
    "    profile_details = subprocess.check_output(['netsh', 'wlan', 'show', 'profile', i, 'key=clear']\n",
    "                                             ).decode('utf-8').split('\\n')\n",
    "    \n",
    "    password_index = profile_details.index('Security settings \\r')+7\n",
    "\n",
    "    try:\n",
    "        result = profile_details[password_index].split(\":\")[1][1:-1]\n",
    "        print(\"{:<30}|  {:<}\".format(i, result))\n",
    "    except IndexError:\n",
    "        print(\"{:<30}|  {:<}\".format(i, \"    NO SECURITY OR COULDN'T CONNECT SUCCESSFULLY \"))"
   ]
  },
  {
   "cell_type": "code",
   "execution_count": null,
   "metadata": {},
   "outputs": [],
   "source": []
  }
 ],
 "metadata": {
  "kernelspec": {
   "display_name": "Python 3",
   "language": "python",
   "name": "python3"
  },
  "language_info": {
   "codemirror_mode": {
    "name": "ipython",
    "version": 3
   },
   "file_extension": ".py",
   "mimetype": "text/x-python",
   "name": "python",
   "nbconvert_exporter": "python",
   "pygments_lexer": "ipython3",
   "version": "3.7.3"
  }
 },
 "nbformat": 4,
 "nbformat_minor": 2
}
