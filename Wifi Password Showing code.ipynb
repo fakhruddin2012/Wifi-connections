{
 "cells": [
  {
   "cell_type": "code",
   "execution_count": null,
   "metadata": {},
   "outputs": [],
   "source": [
    "'''CODE TO SHOW WIFI PASSWORD SUCCESSFULLY CONNECTED TO SYSTEM TILL NOW'''\n",
    "    \n",
    "import subprocess\n",
    "data = subprocess.check_output(['netsh', 'wlan', 'show', 'profile']).decode('utf-8').split('\\n')\n",
    "\n",
    "profiles = [i.split(\":\")[1][1:-1] for i in data if \"All User Profile\" in i]\n",
    "\n",
    "for i in profiles:\n",
    "    profile_details = subprocess.check_output(['netsh', 'wlan', 'show', 'profile', i, 'key=clear']\n",
    "                                             ).decode('utf-8').split('\\n')\n",
    "    \n",
    "    password_index = profile_details.index('Security settings \\r')+7\n",
    "\n",
    "    try:\n",
    "        result = profile_details[password_index].split(\":\")[1][1:-1]\n",
    "        print(\"{:<30}|  {:<}\".format(i, result))\n",
    "    except IndexError:\n",
    "        print(\"{:<30}|  {:<}\".format(i, \"    NO SECURITY OR COULDN'T CONNECT SUCCESSFULLY \"))"
   ]
  },
  {
   "cell_type": "code",
   "execution_count": null,
   "metadata": {},
   "outputs": [],
   "source": []
  }
 ],
 "metadata": {
  "kernelspec": {
   "display_name": "Python 3",
   "language": "python",
   "name": "python3"
  },
  "language_info": {
   "codemirror_mode": {
    "name": "ipython",
    "version": 3
   },
   "file_extension": ".py",
   "mimetype": "text/x-python",
   "name": "python",
   "nbconvert_exporter": "python",
   "pygments_lexer": "ipython3",
   "version": "3.7.3"
  }
 },
 "nbformat": 4,
 "nbformat_minor": 2
}
